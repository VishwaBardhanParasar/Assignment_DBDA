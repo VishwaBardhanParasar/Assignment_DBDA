{
 "cells": [
  {
   "cell_type": "markdown",
   "id": "26ea0a8b",
   "metadata": {},
   "source": [
    "# Name->Vishwa Bardhan Parasar     \n",
    "# Regd->1841017163\n",
    "# Sec-CSIT-C                        Assignment-2"
   ]
  },
  {
   "cell_type": "markdown",
   "id": "93219e5e",
   "metadata": {},
   "source": [
    "# Q1.Creation of 1-array,2-D and 3-D array"
   ]
  },
  {
   "cell_type": "code",
   "execution_count": 1,
   "id": "6af5e214",
   "metadata": {},
   "outputs": [
    {
     "name": "stdout",
     "output_type": "stream",
     "text": [
      "[1 2 3 4 5]\n"
     ]
    }
   ],
   "source": [
    "import numpy as np\n",
    "arr=np.array([1,2,3,4,5])\n",
    "print(arr)"
   ]
  },
  {
   "cell_type": "code",
   "execution_count": 2,
   "id": "9e1a6cc7",
   "metadata": {},
   "outputs": [
    {
     "name": "stdout",
     "output_type": "stream",
     "text": [
      "[[1 2 3]\n",
      " [3 6 4]]\n"
     ]
    }
   ],
   "source": [
    "ar=np.array([[1,2,3],[3,6,4]])\n",
    "print(ar)"
   ]
  },
  {
   "cell_type": "code",
   "execution_count": 3,
   "id": "c83cd3ef",
   "metadata": {},
   "outputs": [
    {
     "name": "stdout",
     "output_type": "stream",
     "text": [
      "[[[1 2 3]\n",
      "  [3 6 4]\n",
      "  [7 9 8]]]\n"
     ]
    }
   ],
   "source": [
    "a=np.array([[[1,2,3],[3,6,4],[7,9,8]]])\n",
    "print(a)"
   ]
  },
  {
   "cell_type": "markdown",
   "id": "cccb9ca7",
   "metadata": {},
   "source": [
    "# Q2.Different functions which can be performed on a numpy array. Write one example of each."
   ]
  },
  {
   "cell_type": "code",
   "execution_count": 4,
   "id": "609dae58",
   "metadata": {},
   "outputs": [
    {
     "name": "stdout",
     "output_type": "stream",
     "text": [
      "Linspace [ 2.  4.  6.  8. 10.]\n",
      "Mean 6.0\n",
      "Sqare root [1.41421356 2.         2.44948974 2.82842712 3.16227766]\n",
      "Value increase in array by 2 [ 4.  6.  8. 10. 12.]\n"
     ]
    }
   ],
   "source": [
    "def lspace(start,stop,space):\n",
    "    r1=np.linspace(start,stop,space)\n",
    "    print(\"Linspace\",r1)\n",
    "    mean_value(np.linspace(start,stop,space))\n",
    "    root_value(np.linspace(start,stop,space))\n",
    "    increase_value(np.linspace(start,stop,space))\n",
    "def mean_value(m):\n",
    "    v1=np.mean(m)\n",
    "    print(\"Mean\",v1)\n",
    "def root_value(r):\n",
    "    v2=np.sqrt(r)\n",
    "    print(\"Sqare root\",v2)\n",
    "def increase_value(inc):\n",
    "    v3=inc+2\n",
    "    print(\"Value increase in array by 2\",v3)\n",
    "lspace(2,10,5)    "
   ]
  },
  {
   "cell_type": "markdown",
   "id": "ceb1be7f",
   "metadata": {},
   "source": [
    "# Q3.Write a NumPy program to create a 3x4 matrix filled with values from 10 to 21"
   ]
  },
  {
   "cell_type": "code",
   "execution_count": 5,
   "id": "039636f7",
   "metadata": {},
   "outputs": [
    {
     "name": "stdout",
     "output_type": "stream",
     "text": [
      "[[12 18 20 10]\n",
      " [16 12 11 11]\n",
      " [13 11 15 14]]\n"
     ]
    }
   ],
   "source": [
    "import numpy as vb\n",
    "matrix=vb.random.randint(10,21,size=(3,4))\n",
    "print(matrix)"
   ]
  },
  {
   "cell_type": "markdown",
   "id": "06272d28",
   "metadata": {},
   "source": [
    "# Q4.Write a NumPy program to create a two-dimensional array with shape (7,10) of random numbers. Select random numbers from a normal distribution (50,220)."
   ]
  },
  {
   "cell_type": "code",
   "execution_count": 6,
   "id": "82df0aef",
   "metadata": {},
   "outputs": [
    {
     "name": "stdout",
     "output_type": "stream",
     "text": [
      "[[-151.00304101  -74.98512257  342.57812042  355.52183567  190.82855966\n",
      "   175.13907036   47.66463268 -228.09038562  475.34295559  323.75926683]\n",
      " [ 168.24744511    1.23727566   79.46671633  118.12143656  507.10120446\n",
      "   344.62507526  211.13648833  -37.55271946  204.5792922  -247.06692321]\n",
      " [  56.32680339  294.4892473  -409.42111154  194.36304203 -145.07744375\n",
      "    87.79230525   12.52824053   31.45505382   84.50004575 -409.58099544]\n",
      " [   4.25556993  425.93870478   21.3285662   -27.17740364 -359.96618908\n",
      "   107.76481945  223.87823469  448.18553653  118.38571968  516.01584562]\n",
      " [ 243.74409404  113.72445442   -4.6725582  -130.60821322 -264.30438565\n",
      "  -473.83162408 -109.76108388  355.68457381 -332.34160669 -295.53144125]\n",
      " [-137.93781779   81.60269881   67.99644385  130.16681492 -402.40474013\n",
      "   -18.22279766  -44.03068588  679.91543854 -132.8245335   253.5475544 ]\n",
      " [-271.13785925  251.79344222 -272.65727877  496.58089466   51.94277288\n",
      "    66.7922889   379.32275372  126.56110093  142.8449842   377.68121034]]\n"
     ]
    }
   ],
   "source": [
    "matrix=vb.random.normal(50,220,size=(7,10))\n",
    "print(matrix)"
   ]
  },
  {
   "cell_type": "markdown",
   "id": "b275ed9f",
   "metadata": {},
   "source": [
    "# "
   ]
  },
  {
   "cell_type": "markdown",
   "id": "4f515e9a",
   "metadata": {},
   "source": [
    "# "
   ]
  }
 ],
 "metadata": {
  "kernelspec": {
   "display_name": "Python 3",
   "language": "python",
   "name": "python3"
  },
  "language_info": {
   "codemirror_mode": {
    "name": "ipython",
    "version": 3
   },
   "file_extension": ".py",
   "mimetype": "text/x-python",
   "name": "python",
   "nbconvert_exporter": "python",
   "pygments_lexer": "ipython3",
   "version": "3.8.8"
  }
 },
 "nbformat": 4,
 "nbformat_minor": 5
}
