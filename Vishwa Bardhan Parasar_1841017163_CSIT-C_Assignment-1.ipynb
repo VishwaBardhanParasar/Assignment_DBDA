{
 "cells": [
  {
   "cell_type": "markdown",
   "id": "da4207e1",
   "metadata": {},
   "source": [
    "# Name->Vishwa Bardhan Parasar     \n",
    "# Regd->1841017163\n",
    "# Sec-CSIT-C                        Assignment-1\n",
    "\n"
   ]
  },
  {
   "cell_type": "markdown",
   "id": "765f76f8",
   "metadata": {},
   "source": [
    "# Q1.LIST and their Functions with example"
   ]
  },
  {
   "cell_type": "code",
   "execution_count": 1,
   "id": "85bce679",
   "metadata": {},
   "outputs": [],
   "source": [
    "List=[1,2,3,4,5]"
   ]
  },
  {
   "cell_type": "markdown",
   "id": "10bc502b",
   "metadata": {},
   "source": [
    "Index"
   ]
  },
  {
   "cell_type": "code",
   "execution_count": 2,
   "id": "0e3173f1",
   "metadata": {},
   "outputs": [
    {
     "data": {
      "text/plain": [
       "2"
      ]
     },
     "execution_count": 2,
     "metadata": {},
     "output_type": "execute_result"
    }
   ],
   "source": [
    "List[1]"
   ]
  },
  {
   "cell_type": "markdown",
   "id": "763f538d",
   "metadata": {},
   "source": [
    "Length"
   ]
  },
  {
   "cell_type": "code",
   "execution_count": 3,
   "id": "cf48fa1e",
   "metadata": {},
   "outputs": [
    {
     "name": "stdout",
     "output_type": "stream",
     "text": [
      "5\n"
     ]
    }
   ],
   "source": [
    "def length(a):\n",
    "    l=len(a)\n",
    "    print(l)\n",
    "length(List)   "
   ]
  },
  {
   "cell_type": "markdown",
   "id": "202e3bea",
   "metadata": {},
   "source": [
    "List Range"
   ]
  },
  {
   "cell_type": "code",
   "execution_count": 4,
   "id": "7a470b31",
   "metadata": {},
   "outputs": [
    {
     "name": "stdout",
     "output_type": "stream",
     "text": [
      "[2, 3, 4]\n"
     ]
    }
   ],
   "source": [
    "def range(l,s,e):\n",
    "    print(l[s:e])\n",
    "range(List,1,4)   "
   ]
  },
  {
   "cell_type": "markdown",
   "id": "01a357f2",
   "metadata": {},
   "source": [
    "Reverse"
   ]
  },
  {
   "cell_type": "code",
   "execution_count": 5,
   "id": "616cd073",
   "metadata": {},
   "outputs": [
    {
     "name": "stdout",
     "output_type": "stream",
     "text": [
      "[5, 4, 3, 2, 1]\n"
     ]
    }
   ],
   "source": [
    "def rev(list,end):\n",
    "    print(list[ : :end])\n",
    "rev(List,-1)    "
   ]
  },
  {
   "cell_type": "markdown",
   "id": "0d438a55",
   "metadata": {},
   "source": [
    "# Dictionary"
   ]
  },
  {
   "cell_type": "code",
   "execution_count": 6,
   "id": "97bdc891",
   "metadata": {},
   "outputs": [],
   "source": [
    "dct={1:\"Apple\",2:\"Banana\",3:\"Orange\",4:\"Coconut\",5:\"Pineapple\"}"
   ]
  },
  {
   "cell_type": "code",
   "execution_count": 7,
   "id": "df3f375d",
   "metadata": {},
   "outputs": [
    {
     "data": {
      "text/plain": [
       "{1: 'Apple', 2: 'Banana', 3: 'Orange', 4: 'Coconut', 5: 'Pineapple'}"
      ]
     },
     "execution_count": 7,
     "metadata": {},
     "output_type": "execute_result"
    }
   ],
   "source": [
    "dct"
   ]
  },
  {
   "cell_type": "markdown",
   "id": "db271dc1",
   "metadata": {},
   "source": [
    "# b)Tuple"
   ]
  },
  {
   "cell_type": "code",
   "execution_count": 8,
   "id": "dff436f9",
   "metadata": {},
   "outputs": [],
   "source": [
    "tpl=(1,2,3,4,5)"
   ]
  },
  {
   "cell_type": "code",
   "execution_count": 9,
   "id": "63842015",
   "metadata": {},
   "outputs": [
    {
     "data": {
      "text/plain": [
       "(1, 2, 3, 4, 5)"
      ]
     },
     "execution_count": 9,
     "metadata": {},
     "output_type": "execute_result"
    }
   ],
   "source": [
    "tpl"
   ]
  },
  {
   "cell_type": "markdown",
   "id": "b42851c6",
   "metadata": {},
   "source": [
    "# c)Set"
   ]
  },
  {
   "cell_type": "code",
   "execution_count": 10,
   "id": "d890b809",
   "metadata": {},
   "outputs": [],
   "source": [
    "Lst=[1,2,3,4,5]\n",
    "st=set(Lst)"
   ]
  },
  {
   "cell_type": "code",
   "execution_count": 11,
   "id": "1a8e9186",
   "metadata": {},
   "outputs": [
    {
     "data": {
      "text/plain": [
       "{1, 2, 3, 4, 5}"
      ]
     },
     "execution_count": 11,
     "metadata": {},
     "output_type": "execute_result"
    }
   ],
   "source": [
    "st"
   ]
  },
  {
   "cell_type": "markdown",
   "id": "03540b73",
   "metadata": {},
   "source": [
    "# To check a person is eligible for vote or not"
   ]
  },
  {
   "cell_type": "code",
   "execution_count": 12,
   "id": "a54b316d",
   "metadata": {},
   "outputs": [
    {
     "name": "stdout",
     "output_type": "stream",
     "text": [
      "Enter Age:21\n",
      "Eligible For Vote\n"
     ]
    }
   ],
   "source": [
    "def check(v):\n",
    "    if v>=18:\n",
    "        print(\"Eligible For Vote\")\n",
    "    else:\n",
    "        print(\"Sorry! Not eligible for vote\")\n",
    "check(int(input(\"Enter Age:\")))        "
   ]
  },
  {
   "cell_type": "markdown",
   "id": "c71767ae",
   "metadata": {},
   "source": [
    "# To check if a number is palindrome"
   ]
  },
  {
   "cell_type": "code",
   "execution_count": 13,
   "id": "7ea99b77",
   "metadata": {},
   "outputs": [
    {
     "name": "stdout",
     "output_type": "stream",
     "text": [
      "Enter Number:111\n",
      "Number is pallindrome\n",
      "111\n"
     ]
    }
   ],
   "source": [
    "n=input(\"Enter Number:\")\n",
    "result=n[ : :-1]\n",
    "if(result==n):\n",
    "    print(\"Number is pallindrome\")\n",
    "else:\n",
    "    print(\"Not pallindrome\")\n",
    "print(result)    "
   ]
  },
  {
   "cell_type": "markdown",
   "id": "b22048f8",
   "metadata": {},
   "source": [
    "# To check if number is armstrong number"
   ]
  },
  {
   "cell_type": "code",
   "execution_count": 14,
   "id": "9dd8f2a9",
   "metadata": {},
   "outputs": [
    {
     "name": "stdout",
     "output_type": "stream",
     "text": [
      "Enter Number:153\n",
      "Armstrong Number\n"
     ]
    }
   ],
   "source": [
    "s=0\n",
    "num=int(input(\"Enter Number:\"))\n",
    "order=len(str(num))\n",
    "n1=num\n",
    "while(num>0):\n",
    "        r=num%10\n",
    "        s+=r**order\n",
    "        num=num//10\n",
    "if(n1==s):\n",
    "        print(\"Armstrong Number\")\n",
    "else:\n",
    "        print(\"Not Armstrong Number\")    "
   ]
  },
  {
   "cell_type": "markdown",
   "id": "d4470262",
   "metadata": {},
   "source": [
    "# To find the maximum, minimum, average of the elements in a list of numbers. Sort the list using any sorting algorithm."
   ]
  },
  {
   "cell_type": "code",
   "execution_count": 15,
   "id": "800a7e59",
   "metadata": {},
   "outputs": [
    {
     "name": "stdout",
     "output_type": "stream",
     "text": [
      "Maximum: 9 Average: 0.3333333333333333\n",
      "Minimum: 1 Average: 0.037037037037037035\n",
      "[1, 2, 3, 5, 7, 9]\n"
     ]
    }
   ],
   "source": [
    "def maximum(Lst):\n",
    "    m1=max(Lst)\n",
    "    print(\"Maximum:\",m1,\"Average:\",m1/sum(Lst))\n",
    "def minimum(Lst):\n",
    "    m2=min(Lst)\n",
    "    print(\"Minimum:\",m2,\"Average:\",m2/sum(Lst))\n",
    "def sorting(Lst):\n",
    "    Lst.sort()\n",
    "    print(Lst)\n",
    "L=[2,1,7,5,9,3] \n",
    "maximum(L) \n",
    "minimum(L)\n",
    "sorting(L)\n",
    "    \n",
    "    "
   ]
  },
  {
   "cell_type": "markdown",
   "id": "ad3acc35",
   "metadata": {},
   "source": [
    "# To search if a number exists and if exist then print the index."
   ]
  },
  {
   "cell_type": "code",
   "execution_count": 16,
   "id": "9e9e005d",
   "metadata": {},
   "outputs": [
    {
     "name": "stdout",
     "output_type": "stream",
     "text": [
      "Enter Number:4\n",
      "Index is: 2\n"
     ]
    }
   ],
   "source": [
    "LI=[3,7,4,1,2,9]\n",
    "sear=int(input(\"Enter Number:\"))\n",
    "print(\"Index is:\",LI.index(sear))"
   ]
  },
  {
   "cell_type": "markdown",
   "id": "081b4dd6",
   "metadata": {},
   "source": [
    "# To search if a key exists in a dictionary and if exist then print the corresponding value"
   ]
  },
  {
   "cell_type": "code",
   "execution_count": 18,
   "id": "4d90bd30",
   "metadata": {},
   "outputs": [
    {
     "name": "stdout",
     "output_type": "stream",
     "text": [
      "Enter Key To Find:2\n",
      "Paper\n"
     ]
    }
   ],
   "source": [
    "def fd(dic,key):\n",
    "    re=0\n",
    "    if(dic.keys()):\n",
    "        print(dic[key])\n",
    "dict={1:\"Pen\",2:\"Paper\",5:\"Mobile\"}  \n",
    "key=int(input(\"Enter Key To Find:\"))\n",
    "fd(dict,key)"
   ]
  }
 ],
 "metadata": {
  "kernelspec": {
   "display_name": "Python 3",
   "language": "python",
   "name": "python3"
  },
  "language_info": {
   "codemirror_mode": {
    "name": "ipython",
    "version": 3
   },
   "file_extension": ".py",
   "mimetype": "text/x-python",
   "name": "python",
   "nbconvert_exporter": "python",
   "pygments_lexer": "ipython3",
   "version": "3.8.8"
  }
 },
 "nbformat": 4,
 "nbformat_minor": 5
}
